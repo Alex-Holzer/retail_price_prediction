{
 "cells": [
  {
   "attachments": {},
   "cell_type": "markdown",
   "metadata": {},
   "source": [
    "# Package Installation and Data Reading"
   ]
  },
  {
   "cell_type": "code",
   "execution_count": 6,
   "metadata": {},
   "outputs": [],
   "source": [
    "import os\n",
    "import numpy as np\n",
    "import pandas as pd"
   ]
  },
  {
   "cell_type": "code",
   "execution_count": 67,
   "metadata": {},
   "outputs": [],
   "source": [
    "def read_csv_files_to_dataframes(relative_path: str) -> dict:\n",
    "    \"\"\"\n",
    "    Read CSV files from a specified relative path and store them in separate DataFrames.\n",
    "\n",
    "    Args:\n",
    "        relative_path (str): The relative path of the directory containing the CSV files.\n",
    "\n",
    "    Returns:\n",
    "        dict: A dictionary where keys are the file names (without extension) and values are the corresponding DataFrames.\n",
    "\n",
    "    Raises:\n",
    "        FileNotFoundError: If the specified relative path does not exist.\n",
    "\n",
    "    Example:\n",
    "        dataframes = read_csv_files_to_dataframes('data_folder')\n",
    "        df1 = dataframes['file1']  # Access the DataFrame for file1.csv\n",
    "        df2 = dataframes['file2']  # Access the DataFrame for file2.csv\n",
    "    \"\"\"\n",
    "    data_folder = os.path.join(os.getcwd(), relative_path)\n",
    "\n",
    "    if not os.path.exists(data_folder):\n",
    "        raise FileNotFoundError(f\"The specified relative path '{relative_path}' does not exist.\")\n",
    "\n",
    "    csv_files = [file for file in os.listdir(data_folder) if file.endswith('.csv')]\n",
    "    dataframes = {}\n",
    "\n",
    "    for file in csv_files:\n",
    "        file_path = os.path.join(data_folder, file)\n",
    "        df_name = os.path.splitext(file)[0]\n",
    "        dataframes[df_name] = pd.read_csv(file_path)\n",
    "\n",
    " \n",
    "\n",
    "    return dataframes "
   ]
  },
  {
   "cell_type": "code",
   "execution_count": 68,
   "metadata": {},
   "outputs": [],
   "source": [
    "relative_path = \"/Users/alexholzer/Desktop/retail_price_prediction/data\"\n",
    "dataframes = read_csv_files_to_dataframes(relative_path)"
   ]
  },
  {
   "cell_type": "code",
   "execution_count": 86,
   "metadata": {},
   "outputs": [
    {
     "name": "stdout",
     "output_type": "stream",
     "text": [
      "file_out2\n",
      "file_out\n"
     ]
    }
   ],
   "source": [
    "# create a DataFrame for each file\n",
    "for file_name in dataframes:\n",
    "    locals()[file_name] = dataframes[file_name].copy()\n",
    "    print(file_name)"
   ]
  },
  {
   "attachments": {},
   "cell_type": "markdown",
   "metadata": {},
   "source": [
    "# Data Familiarization"
   ]
  },
  {
   "cell_type": "code",
   "execution_count": 105,
   "metadata": {},
   "outputs": [
    {
     "name": "stdout",
     "output_type": "stream",
     "text": [
      "<class 'pandas.core.frame.DataFrame'>\n",
      "RangeIndex: 33356 entries, 0 to 33355\n",
      "Data columns (total 8 columns):\n",
      " #   Column      Non-Null Count  Dtype  \n",
      "---  ------      --------------  -----  \n",
      " 0   Unnamed: 0  33356 non-null  int64  \n",
      " 1   DocumentID  33356 non-null  int64  \n",
      " 2   Date        33356 non-null  object \n",
      " 3   SKU         33356 non-null  int64  \n",
      " 4   Price       33356 non-null  float64\n",
      " 5   Discount    33356 non-null  float64\n",
      " 6   Customer    33356 non-null  int64  \n",
      " 7   Quantity    33356 non-null  float64\n",
      "dtypes: float64(3), int64(4), object(1)\n",
      "memory usage: 2.0+ MB\n"
     ]
    }
   ],
   "source": [
    "file_out.info(memory_usage=True)"
   ]
  },
  {
   "cell_type": "code",
   "execution_count": 108,
   "metadata": {},
   "outputs": [
    {
     "name": "stdout",
     "output_type": "stream",
     "text": [
      "<class 'pandas.core.frame.DataFrame'>\n",
      "RangeIndex: 29103 entries, 0 to 29102\n",
      "Data columns (total 8 columns):\n",
      " #   Column      Non-Null Count  Dtype  \n",
      "---  ------      --------------  -----  \n",
      " 0   Unnamed: 0  29103 non-null  int64  \n",
      " 1   InvoiceID   29103 non-null  int64  \n",
      " 2   Date        29103 non-null  object \n",
      " 3   ProductID   29103 non-null  int64  \n",
      " 4   TotalSales  29103 non-null  float64\n",
      " 5   Discount    29103 non-null  float64\n",
      " 6   CustomerID  29103 non-null  int64  \n",
      " 7   Quantity    29103 non-null  int64  \n",
      "dtypes: float64(2), int64(5), object(1)\n",
      "memory usage: 1.8+ MB\n"
     ]
    }
   ],
   "source": [
    "file_out2.info(memory_usage='True')"
   ]
  },
  {
   "cell_type": "code",
   "execution_count": 111,
   "metadata": {},
   "outputs": [],
   "source": [
    "column_mapping = {\n",
    "    'Unnamed: 0': 'Unnamed: 0',\n",
    "    'DocumentID': 'InvoiceID',\n",
    "    'Date': 'Date',\n",
    "    'SKU': 'ProductID',\n",
    "    'Price': 'TotalSales',\n",
    "    'Discount': 'Discount',\n",
    "    'Customer': 'CustomerID',\n",
    "    'Quantity': 'Quantity'\n",
    "}\n",
    "\n",
    "file_out.columns = [column_mapping[col] for col in file_out.columns]"
   ]
  },
  {
   "cell_type": "code",
   "execution_count": 116,
   "metadata": {},
   "outputs": [
    {
     "data": {
      "text/plain": [
       "pandas.core.frame.DataFrame"
      ]
     },
     "execution_count": 116,
     "metadata": {},
     "output_type": "execute_result"
    }
   ],
   "source": [
    "combined_files = pd.concat([file_out,file_out2]).drop_duplicates(keep='last')"
   ]
  },
  {
   "cell_type": "code",
   "execution_count": 117,
   "metadata": {},
   "outputs": [],
   "source": []
  },
  {
   "cell_type": "code",
   "execution_count": 118,
   "metadata": {},
   "outputs": [
    {
     "data": {
      "text/html": [
       "<div>\n",
       "<style scoped>\n",
       "    .dataframe tbody tr th:only-of-type {\n",
       "        vertical-align: middle;\n",
       "    }\n",
       "\n",
       "    .dataframe tbody tr th {\n",
       "        vertical-align: top;\n",
       "    }\n",
       "\n",
       "    .dataframe thead th {\n",
       "        text-align: right;\n",
       "    }\n",
       "</style>\n",
       "<table border=\"1\" class=\"dataframe\">\n",
       "  <thead>\n",
       "    <tr style=\"text-align: right;\">\n",
       "      <th></th>\n",
       "      <th>Unnamed: 0</th>\n",
       "      <th>InvoiceID</th>\n",
       "      <th>Date</th>\n",
       "      <th>ProductID</th>\n",
       "      <th>TotalSales</th>\n",
       "      <th>Discount</th>\n",
       "      <th>CustomerID</th>\n",
       "      <th>Quantity</th>\n",
       "    </tr>\n",
       "  </thead>\n",
       "  <tbody>\n",
       "    <tr>\n",
       "      <th>0</th>\n",
       "      <td>0</td>\n",
       "      <td>716</td>\n",
       "      <td>2019-09-23</td>\n",
       "      <td>1039</td>\n",
       "      <td>381.780000</td>\n",
       "      <td>67.372540</td>\n",
       "      <td>1</td>\n",
       "      <td>1.0</td>\n",
       "    </tr>\n",
       "    <tr>\n",
       "      <th>1</th>\n",
       "      <td>1</td>\n",
       "      <td>716</td>\n",
       "      <td>2019-09-23</td>\n",
       "      <td>853</td>\n",
       "      <td>593.220000</td>\n",
       "      <td>0.000340</td>\n",
       "      <td>1</td>\n",
       "      <td>1.0</td>\n",
       "    </tr>\n",
       "    <tr>\n",
       "      <th>2</th>\n",
       "      <td>2</td>\n",
       "      <td>716</td>\n",
       "      <td>2019-09-23</td>\n",
       "      <td>862</td>\n",
       "      <td>423.730000</td>\n",
       "      <td>-0.001190</td>\n",
       "      <td>1</td>\n",
       "      <td>1.0</td>\n",
       "    </tr>\n",
       "    <tr>\n",
       "      <th>3</th>\n",
       "      <td>3</td>\n",
       "      <td>716</td>\n",
       "      <td>2019-09-23</td>\n",
       "      <td>868</td>\n",
       "      <td>201.700000</td>\n",
       "      <td>35.588140</td>\n",
       "      <td>1</td>\n",
       "      <td>1.0</td>\n",
       "    </tr>\n",
       "    <tr>\n",
       "      <th>4</th>\n",
       "      <td>4</td>\n",
       "      <td>716</td>\n",
       "      <td>2019-09-23</td>\n",
       "      <td>2313</td>\n",
       "      <td>345.760000</td>\n",
       "      <td>61.019660</td>\n",
       "      <td>1</td>\n",
       "      <td>1.0</td>\n",
       "    </tr>\n",
       "    <tr>\n",
       "      <th>...</th>\n",
       "      <td>...</td>\n",
       "      <td>...</td>\n",
       "      <td>...</td>\n",
       "      <td>...</td>\n",
       "      <td>...</td>\n",
       "      <td>...</td>\n",
       "      <td>...</td>\n",
       "      <td>...</td>\n",
       "    </tr>\n",
       "    <tr>\n",
       "      <th>29098</th>\n",
       "      <td>29098</td>\n",
       "      <td>11092</td>\n",
       "      <td>2023-01-13</td>\n",
       "      <td>1644</td>\n",
       "      <td>6573.000000</td>\n",
       "      <td>1183.140000</td>\n",
       "      <td>269</td>\n",
       "      <td>1.0</td>\n",
       "    </tr>\n",
       "    <tr>\n",
       "      <th>29099</th>\n",
       "      <td>29099</td>\n",
       "      <td>11093</td>\n",
       "      <td>2023-01-13</td>\n",
       "      <td>352</td>\n",
       "      <td>5179.728814</td>\n",
       "      <td>932.351186</td>\n",
       "      <td>250</td>\n",
       "      <td>4.0</td>\n",
       "    </tr>\n",
       "    <tr>\n",
       "      <th>29100</th>\n",
       "      <td>29100</td>\n",
       "      <td>11094</td>\n",
       "      <td>2023-01-13</td>\n",
       "      <td>683</td>\n",
       "      <td>7741.423729</td>\n",
       "      <td>1393.456271</td>\n",
       "      <td>415</td>\n",
       "      <td>4.0</td>\n",
       "    </tr>\n",
       "    <tr>\n",
       "      <th>29101</th>\n",
       "      <td>29101</td>\n",
       "      <td>11095</td>\n",
       "      <td>2023-01-14</td>\n",
       "      <td>1830</td>\n",
       "      <td>3644.067797</td>\n",
       "      <td>655.932203</td>\n",
       "      <td>59</td>\n",
       "      <td>4.0</td>\n",
       "    </tr>\n",
       "    <tr>\n",
       "      <th>29102</th>\n",
       "      <td>29102</td>\n",
       "      <td>11096</td>\n",
       "      <td>2023-01-14</td>\n",
       "      <td>351</td>\n",
       "      <td>5813.559322</td>\n",
       "      <td>1046.440678</td>\n",
       "      <td>423</td>\n",
       "      <td>4.0</td>\n",
       "    </tr>\n",
       "  </tbody>\n",
       "</table>\n",
       "<p>62459 rows × 8 columns</p>\n",
       "</div>"
      ],
      "text/plain": [
       "       Unnamed: 0  InvoiceID        Date  ProductID   TotalSales     Discount  \\\n",
       "0               0        716  2019-09-23       1039   381.780000    67.372540   \n",
       "1               1        716  2019-09-23        853   593.220000     0.000340   \n",
       "2               2        716  2019-09-23        862   423.730000    -0.001190   \n",
       "3               3        716  2019-09-23        868   201.700000    35.588140   \n",
       "4               4        716  2019-09-23       2313   345.760000    61.019660   \n",
       "...           ...        ...         ...        ...          ...          ...   \n",
       "29098       29098      11092  2023-01-13       1644  6573.000000  1183.140000   \n",
       "29099       29099      11093  2023-01-13        352  5179.728814   932.351186   \n",
       "29100       29100      11094  2023-01-13        683  7741.423729  1393.456271   \n",
       "29101       29101      11095  2023-01-14       1830  3644.067797   655.932203   \n",
       "29102       29102      11096  2023-01-14        351  5813.559322  1046.440678   \n",
       "\n",
       "       CustomerID  Quantity  \n",
       "0               1       1.0  \n",
       "1               1       1.0  \n",
       "2               1       1.0  \n",
       "3               1       1.0  \n",
       "4               1       1.0  \n",
       "...           ...       ...  \n",
       "29098         269       1.0  \n",
       "29099         250       4.0  \n",
       "29100         415       4.0  \n",
       "29101          59       4.0  \n",
       "29102         423       4.0  \n",
       "\n",
       "[62459 rows x 8 columns]"
      ]
     },
     "execution_count": 118,
     "metadata": {},
     "output_type": "execute_result"
    }
   ],
   "source": []
  },
  {
   "cell_type": "code",
   "execution_count": null,
   "metadata": {},
   "outputs": [],
   "source": []
  }
 ],
 "metadata": {
  "kernelspec": {
   "display_name": "Python 3",
   "language": "python",
   "name": "python3"
  },
  "language_info": {
   "codemirror_mode": {
    "name": "ipython",
    "version": 3
   },
   "file_extension": ".py",
   "mimetype": "text/x-python",
   "name": "python",
   "nbconvert_exporter": "python",
   "pygments_lexer": "ipython3",
   "version": "3.9.12"
  },
  "orig_nbformat": 4
 },
 "nbformat": 4,
 "nbformat_minor": 2
}
